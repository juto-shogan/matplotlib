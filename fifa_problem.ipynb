{
 "cells": [
  {
   "cell_type": "code",
   "execution_count": null,
   "metadata": {},
   "outputs": [],
   "source": [
    "import numpy as np\n",
    "import pandas as pd\n",
    "import matplotlib.pyplot as plt"
   ]
  },
  {
   "cell_type": "code",
   "execution_count": null,
   "metadata": {},
   "outputs": [],
   "source": [
    "fifa = pd.read_csv('/home/juto/Desktop/matplotlib/reference/matplotlib_tutorial/fifa_data.csv')\n",
    "fifa.info()"
   ]
  },
  {
   "cell_type": "code",
   "execution_count": null,
   "metadata": {},
   "outputs": [],
   "source": [
    "fifa.head()"
   ]
  },
  {
   "cell_type": "markdown",
   "metadata": {},
   "source": [
    "### Histograms ###"
   ]
  },
  {
   "cell_type": "code",
   "execution_count": null,
   "metadata": {},
   "outputs": [],
   "source": [
    "plt.figure(figsize=(7,7))\n",
    "bins = [0,10,20,30,40,50,60,70,80,90,100]\n",
    "\n",
    "plt.hist(fifa.Overall, bins= bins)\n",
    "\n",
    "plt.xticks(bins)\n",
    "plt.yticks(np.arange(0, 10000, 500))\n",
    "\n",
    "plt.xlabel('Player\\'s Overall Rating')\n",
    "plt.ylabel('Number of Players')\n",
    "plt.title('Distribution of Players Skills in FIFA 2018')\n",
    "plt.show()"
   ]
  },
  {
   "cell_type": "markdown",
   "metadata": {},
   "source": [
    "## plot a pie chart"
   ]
  },
  {
   "cell_type": "code",
   "execution_count": null,
   "metadata": {},
   "outputs": [],
   "source": [
    "fifa.Weight"
   ]
  },
  {
   "cell_type": "code",
   "execution_count": null,
   "metadata": {},
   "outputs": [],
   "source": [
    "\"\"\"\n",
    "    trying the count the number of players who prefer to play with their left foot\n",
    "    and then turn that to a pie chart\n",
    "    \"\"\"\n",
    "left = fifa.loc[fifa['Preferred Foot'] == 'Left'].count()[0]\n",
    "right = fifa.loc[fifa['Preferred Foot'] == 'Right'].count()[0]\n",
    "\n",
    "\n",
    "colors = ['red', 'blue']\n",
    "fig, ax = plt.subplots()\n",
    "\n",
    "ax.pie([left, right], labels=['Left', 'Right'], explode=[0.1, 0.1],\n",
    "        colors = colors, autopct=\"%.2f %%\",\n",
    "        shadow=True)\n",
    "\n",
    "\n",
    "plt.title('Preferred Foot Distribution')\n",
    "plt.legend()\n",
    "plt.show()"
   ]
  },
  {
   "cell_type": "code",
   "execution_count": null,
   "metadata": {},
   "outputs": [],
   "source": [
    "\n",
    "labels = 'Frogs', 'Hogs', 'Dogs', 'Logs'\n",
    "sizes = [15, 30, 45, 10]\n",
    "explode = (0, 0.1, 0, 0)  # only \"explode\" the 2nd slice (i.e. 'Hogs')\n",
    "\n",
    "fig, ax = plt.subplots()\n",
    "ax.pie(sizes, explode=explode, labels=labels, autopct='%1.1f%%',\n",
    "       shadow=True, startangle=90)\n",
    "plt.show()\n"
   ]
  },
  {
   "cell_type": "code",
   "execution_count": null,
   "metadata": {},
   "outputs": [],
   "source": [
    "fifa['Weight'].fillna(0)\n",
    "\n",
    "\"\"\"\n",
    "    trying to convert the weight column to float\n",
    "\"\"\"\n",
    "\n",
    "plt.style.use('ggplot')\n",
    "fifa['Weight'] = fifa['Weight'].astype(str).apply(lambda x: x.strip('lbs')).astype(float)\n",
    "\n",
    "light = fifa.loc[fifa['Weight'] < 125].count()[0]\n",
    "light_medium = fifa.loc[(fifa['Weight'] >= 125)&(fifa.Weight < 150)].count()[0]\n",
    "medium = fifa.loc[(fifa['Weight'] >= 150)&(fifa.Weight < 175)].count()[0]\n",
    "medium_heavy = fifa.loc[(fifa['Weight'] >= 175)&(fifa.Weight < 200)].count()[0]\n",
    "heavy = fifa.loc[fifa['Weight'] >= 200].count()[0]\n",
    "\n",
    "\n",
    "weights = [light, light_medium, medium, medium_heavy, heavy]\n",
    "labels = ['Under 125', '125-150', '150-175', '175-200', 'Over 200']\n",
    "fig, ax = plt.subplots()\n",
    "\n",
    "ax.pie(weights,explode= [0.1, 0.1, 0, 0, 0.1], labels=labels, autopct='%1.1f%%', shadow=True,\n",
    "       radius=0.9)\n",
    "plt.title('Weight Distribution')"
   ]
  },
  {
   "cell_type": "code",
   "execution_count": null,
   "metadata": {},
   "outputs": [],
   "source": [
    "overall = fifa.Overall[0]\n",
    "print(overall)"
   ]
  },
  {
   "cell_type": "code",
   "execution_count": null,
   "metadata": {},
   "outputs": [],
   "source": [
    "barca = fifa.loc[fifa.Club == 'FC Barcelona' ]['Overall']\n",
    "barca"
   ]
  },
  {
   "cell_type": "markdown",
   "metadata": {},
   "source": [
    "### box and wisckers "
   ]
  },
  {
   "cell_type": "code",
   "execution_count": null,
   "metadata": {},
   "outputs": [],
   "source": [
    "barca = fifa.loc[fifa.Club == 'FC Barcelona' ]['Overall']\n",
    "madrid = fifa.loc[fifa.Club == 'Real Madrid' ]['Overall']\n",
    "revs  = fifa.loc[fifa.Club == 'New England Revolution' ]['Overall']\n",
    "\n",
    "plt.style.use('ggplot')\n",
    "plt.figure(figsize=(5,5))\n",
    "colors = ['red', 'blue']\n",
    "plt.boxplot([barca, madrid, revs],labels=['Barca', 'Madrid', 'New England Revolution'])\n",
    "\n",
    "#\n",
    "\n",
    "plt.legend()\n",
    "plt.title('realMadrid vs barca, New English Revolution')\n",
    "plt.ylabel('Overall Rating')\n",
    "plt.xlabel('teams')\n",
    "plt.show()"
   ]
  },
  {
   "cell_type": "code",
   "execution_count": null,
   "metadata": {
    "notebookRunGroups": {
     "groupValue": "1"
    }
   },
   "outputs": [],
   "source": [
    "plt.style.use('ggplot')\n",
    "plt.figure(figsize=(5,5))\n",
    "\n",
    "# Create a list of colors\n",
    "colors = ['red', 'blue', 'green']\n",
    "\n",
    "# Create the box plot\n",
    "bp = plt.boxplot([barca, madrid, revs], labels=['Barca', 'Madrid', 'New England Revolution'], patch_artist=True)# for the line inside the box adjustment, use madianprop= {'linewidth':2}\n",
    "\n",
    "# Loop through each in-box line and set the color\n",
    "for box in bp['boxes']:\n",
    "    box.set(color= 'black', linewidth=2)\n",
    "\n",
    "# Loop through each box and set the color\n",
    "for patch, color in zip(bp['boxes'], colors):\n",
    "    patch.set_facecolor(color)\n",
    "\n",
    "# Loop through each whisker and set the linewidth\n",
    "for whisker in bp['whiskers']:\n",
    "    whisker.set_linewidth(1)\n",
    "\n",
    "plt.legend()\n",
    "plt.title('realMadrid vs barca, New England Revolution')\n",
    "plt.ylabel('Overall Rating')\n",
    "plt.xlabel('teams')\n",
    "plt.show()"
   ]
  }
 ],
 "metadata": {
  "kernelspec": {
   "display_name": ".venv",
   "language": "python",
   "name": "python3"
  },
  "language_info": {
   "codemirror_mode": {
    "name": "ipython",
    "version": 3
   },
   "file_extension": ".py",
   "mimetype": "text/x-python",
   "name": "python",
   "nbconvert_exporter": "python",
   "pygments_lexer": "ipython3",
   "version": "3.11.2"
  }
 },
 "nbformat": 4,
 "nbformat_minor": 2
}
